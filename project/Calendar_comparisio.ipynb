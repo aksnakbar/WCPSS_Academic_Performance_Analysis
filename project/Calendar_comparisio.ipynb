{
 "cells": [
  {
   "cell_type": "code",
   "execution_count": 160,
   "id": "32880722",
   "metadata": {},
   "outputs": [
    {
     "data": {
      "text/html": [
       "<div>\n",
       "<style scoped>\n",
       "    .dataframe tbody tr th:only-of-type {\n",
       "        vertical-align: middle;\n",
       "    }\n",
       "\n",
       "    .dataframe tbody tr th {\n",
       "        vertical-align: top;\n",
       "    }\n",
       "\n",
       "    .dataframe thead th {\n",
       "        text-align: right;\n",
       "    }\n",
       "</style>\n",
       "<table border=\"1\" class=\"dataframe\">\n",
       "  <thead>\n",
       "    <tr style=\"text-align: right;\">\n",
       "      <th></th>\n",
       "      <th>X</th>\n",
       "      <th>Y</th>\n",
       "      <th>OBJECTID</th>\n",
       "      <th>TAG</th>\n",
       "      <th>NAME</th>\n",
       "      <th>GRADELEVEL</th>\n",
       "      <th>PHONE</th>\n",
       "      <th>CALENDAR</th>\n",
       "      <th>ADDRESSNUM</th>\n",
       "      <th>ADDRESS</th>\n",
       "      <th>CITY</th>\n",
       "      <th>ZIPCODE</th>\n",
       "      <th>MAGNETPROGRAM</th>\n",
       "      <th>WEBSITE</th>\n",
       "      <th>DISTRICT</th>\n",
       "      <th>TYPE</th>\n",
       "    </tr>\n",
       "  </thead>\n",
       "  <tbody>\n",
       "    <tr>\n",
       "      <th>0</th>\n",
       "      <td>2.079034e+06</td>\n",
       "      <td>726189.156738</td>\n",
       "      <td>1</td>\n",
       "      <td>568</td>\n",
       "      <td>Swift Creek Elementary</td>\n",
       "      <td>Elementary</td>\n",
       "      <td>919-233-4320</td>\n",
       "      <td>Traditional</td>\n",
       "      <td>5601</td>\n",
       "      <td>Tryon Rd</td>\n",
       "      <td>Raleigh</td>\n",
       "      <td>27606</td>\n",
       "      <td>NaN</td>\n",
       "      <td>http://www.wcpss.net/swiftcreekes</td>\n",
       "      <td>5</td>\n",
       "      <td>Elementary Schools</td>\n",
       "    </tr>\n",
       "    <tr>\n",
       "      <th>1</th>\n",
       "      <td>2.063090e+06</td>\n",
       "      <td>734826.331720</td>\n",
       "      <td>2</td>\n",
       "      <td>340</td>\n",
       "      <td>Briarcliff Elementary</td>\n",
       "      <td>Elementary</td>\n",
       "      <td>919-460-3443</td>\n",
       "      <td>Traditional</td>\n",
       "      <td>1220</td>\n",
       "      <td>Pond St</td>\n",
       "      <td>Cary</td>\n",
       "      <td>27511</td>\n",
       "      <td>NaN</td>\n",
       "      <td>http://www.wcpss.net/briarcliffes</td>\n",
       "      <td>9</td>\n",
       "      <td>Elementary Schools</td>\n",
       "    </tr>\n",
       "    <tr>\n",
       "      <th>2</th>\n",
       "      <td>2.066876e+06</td>\n",
       "      <td>730870.613582</td>\n",
       "      <td>3</td>\n",
       "      <td>414</td>\n",
       "      <td>Farmington Woods Elementary</td>\n",
       "      <td>Elementary</td>\n",
       "      <td>919-460-3469</td>\n",
       "      <td>Traditional</td>\n",
       "      <td>1413</td>\n",
       "      <td>Hampton Valley Rd</td>\n",
       "      <td>Cary</td>\n",
       "      <td>27511</td>\n",
       "      <td>International Baccalaureate Programme</td>\n",
       "      <td>http://www.wcpss.net/farmingtonwoodses</td>\n",
       "      <td>9</td>\n",
       "      <td>Magnet Elementary School</td>\n",
       "    </tr>\n",
       "    <tr>\n",
       "      <th>3</th>\n",
       "      <td>2.069264e+06</td>\n",
       "      <td>736058.347301</td>\n",
       "      <td>4</td>\n",
       "      <td>368</td>\n",
       "      <td>Cary High</td>\n",
       "      <td>High</td>\n",
       "      <td>919-460-3549</td>\n",
       "      <td>Traditional</td>\n",
       "      <td>638</td>\n",
       "      <td>Walnut St</td>\n",
       "      <td>Cary</td>\n",
       "      <td>27511</td>\n",
       "      <td>NaN</td>\n",
       "      <td>http://www.wcpss.net/caryhs</td>\n",
       "      <td>9</td>\n",
       "      <td>High School</td>\n",
       "    </tr>\n",
       "    <tr>\n",
       "      <th>4</th>\n",
       "      <td>2.070549e+06</td>\n",
       "      <td>737890.926641</td>\n",
       "      <td>5</td>\n",
       "      <td>304</td>\n",
       "      <td>Adams Elementary</td>\n",
       "      <td>Elementary</td>\n",
       "      <td>919-460-3431</td>\n",
       "      <td>Year-Round</td>\n",
       "      <td>805</td>\n",
       "      <td>Cary Towne Blvd</td>\n",
       "      <td>Cary</td>\n",
       "      <td>27511</td>\n",
       "      <td>NaN</td>\n",
       "      <td>http://www.wcpss.net/adamses</td>\n",
       "      <td>9</td>\n",
       "      <td>Elementary Schools</td>\n",
       "    </tr>\n",
       "    <tr>\n",
       "      <th>5</th>\n",
       "      <td>2.042533e+06</td>\n",
       "      <td>717373.978174</td>\n",
       "      <td>6</td>\n",
       "      <td>308</td>\n",
       "      <td>Apex Elementary</td>\n",
       "      <td>Elementary</td>\n",
       "      <td>919-387-2150</td>\n",
       "      <td>Traditional</td>\n",
       "      <td>700</td>\n",
       "      <td>Tingen Rd</td>\n",
       "      <td>Apex</td>\n",
       "      <td>27502</td>\n",
       "      <td>NaN</td>\n",
       "      <td>http://www.wcpss.net/apexes</td>\n",
       "      <td>8</td>\n",
       "      <td>Elementary Schools</td>\n",
       "    </tr>\n",
       "    <tr>\n",
       "      <th>6</th>\n",
       "      <td>2.048186e+06</td>\n",
       "      <td>726157.985868</td>\n",
       "      <td>7</td>\n",
       "      <td>316</td>\n",
       "      <td>Apex High</td>\n",
       "      <td>High</td>\n",
       "      <td>919-387-2208</td>\n",
       "      <td>Traditional</td>\n",
       "      <td>1501</td>\n",
       "      <td>Laura Duncan Rd</td>\n",
       "      <td>Apex</td>\n",
       "      <td>27502</td>\n",
       "      <td>NaN</td>\n",
       "      <td>http://www.wcpss.net/apexhs</td>\n",
       "      <td>8</td>\n",
       "      <td>High School</td>\n",
       "    </tr>\n",
       "    <tr>\n",
       "      <th>7</th>\n",
       "      <td>2.065777e+06</td>\n",
       "      <td>743672.857663</td>\n",
       "      <td>8</td>\n",
       "      <td>460</td>\n",
       "      <td>Kingswood Elementary</td>\n",
       "      <td>Elementary</td>\n",
       "      <td>919-460-3481</td>\n",
       "      <td>Traditional</td>\n",
       "      <td>200</td>\n",
       "      <td>E Johnson St</td>\n",
       "      <td>Cary</td>\n",
       "      <td>27513</td>\n",
       "      <td>Montessori Program grades PK-5</td>\n",
       "      <td>http://www.wcpss.net/kingswoodes</td>\n",
       "      <td>9</td>\n",
       "      <td>Magnet Elementary School</td>\n",
       "    </tr>\n",
       "    <tr>\n",
       "      <th>8</th>\n",
       "      <td>2.062330e+06</td>\n",
       "      <td>744446.473241</td>\n",
       "      <td>9</td>\n",
       "      <td>520</td>\n",
       "      <td>Northwoods Elementary</td>\n",
       "      <td>Elementary</td>\n",
       "      <td>919-460-3491</td>\n",
       "      <td>Traditional</td>\n",
       "      <td>8850</td>\n",
       "      <td>Chapel Hill Rd</td>\n",
       "      <td>Cary</td>\n",
       "      <td>27513</td>\n",
       "      <td>NaN</td>\n",
       "      <td>http://www.wcpss.net/northwoodses</td>\n",
       "      <td>9</td>\n",
       "      <td>Elementary Schools</td>\n",
       "    </tr>\n",
       "    <tr>\n",
       "      <th>9</th>\n",
       "      <td>2.088523e+06</td>\n",
       "      <td>737156.967807</td>\n",
       "      <td>10</td>\n",
       "      <td>376</td>\n",
       "      <td>Combs Elementary</td>\n",
       "      <td>Elementary</td>\n",
       "      <td>919-233-4300</td>\n",
       "      <td>Traditional</td>\n",
       "      <td>2001</td>\n",
       "      <td>Lorimer Rd</td>\n",
       "      <td>Raleigh</td>\n",
       "      <td>27606</td>\n",
       "      <td>Leadership</td>\n",
       "      <td>http://www.wcpss.net/combses</td>\n",
       "      <td>5</td>\n",
       "      <td>Magnet Elementary School</td>\n",
       "    </tr>\n",
       "  </tbody>\n",
       "</table>\n",
       "</div>"
      ],
      "text/plain": [
       "              X              Y  OBJECTID  TAG                         NAME  \\\n",
       "0  2.079034e+06  726189.156738         1  568       Swift Creek Elementary   \n",
       "1  2.063090e+06  734826.331720         2  340        Briarcliff Elementary   \n",
       "2  2.066876e+06  730870.613582         3  414  Farmington Woods Elementary   \n",
       "3  2.069264e+06  736058.347301         4  368                    Cary High   \n",
       "4  2.070549e+06  737890.926641         5  304             Adams Elementary   \n",
       "5  2.042533e+06  717373.978174         6  308              Apex Elementary   \n",
       "6  2.048186e+06  726157.985868         7  316                    Apex High   \n",
       "7  2.065777e+06  743672.857663         8  460         Kingswood Elementary   \n",
       "8  2.062330e+06  744446.473241         9  520        Northwoods Elementary   \n",
       "9  2.088523e+06  737156.967807        10  376             Combs Elementary   \n",
       "\n",
       "   GRADELEVEL         PHONE     CALENDAR ADDRESSNUM            ADDRESS  \\\n",
       "0  Elementary  919-233-4320  Traditional       5601           Tryon Rd   \n",
       "1  Elementary  919-460-3443  Traditional       1220            Pond St   \n",
       "2  Elementary  919-460-3469  Traditional       1413  Hampton Valley Rd   \n",
       "3        High  919-460-3549  Traditional        638          Walnut St   \n",
       "4  Elementary  919-460-3431   Year-Round        805    Cary Towne Blvd   \n",
       "5  Elementary  919-387-2150  Traditional        700          Tingen Rd   \n",
       "6        High  919-387-2208  Traditional       1501    Laura Duncan Rd   \n",
       "7  Elementary  919-460-3481  Traditional        200       E Johnson St   \n",
       "8  Elementary  919-460-3491  Traditional       8850     Chapel Hill Rd   \n",
       "9  Elementary  919-233-4300  Traditional       2001         Lorimer Rd   \n",
       "\n",
       "      CITY  ZIPCODE                          MAGNETPROGRAM  \\\n",
       "0  Raleigh    27606                                    NaN   \n",
       "1     Cary    27511                                    NaN   \n",
       "2     Cary    27511  International Baccalaureate Programme   \n",
       "3     Cary    27511                                    NaN   \n",
       "4     Cary    27511                                    NaN   \n",
       "5     Apex    27502                                    NaN   \n",
       "6     Apex    27502                                    NaN   \n",
       "7     Cary    27513         Montessori Program grades PK-5   \n",
       "8     Cary    27513                                    NaN   \n",
       "9  Raleigh    27606                             Leadership   \n",
       "\n",
       "                                  WEBSITE  DISTRICT                      TYPE  \n",
       "0       http://www.wcpss.net/swiftcreekes         5        Elementary Schools  \n",
       "1       http://www.wcpss.net/briarcliffes         9        Elementary Schools  \n",
       "2  http://www.wcpss.net/farmingtonwoodses         9  Magnet Elementary School  \n",
       "3             http://www.wcpss.net/caryhs         9               High School  \n",
       "4            http://www.wcpss.net/adamses         9        Elementary Schools  \n",
       "5             http://www.wcpss.net/apexes         8        Elementary Schools  \n",
       "6             http://www.wcpss.net/apexhs         8               High School  \n",
       "7        http://www.wcpss.net/kingswoodes         9  Magnet Elementary School  \n",
       "8       http://www.wcpss.net/northwoodses         9        Elementary Schools  \n",
       "9            http://www.wcpss.net/combses         5  Magnet Elementary School  "
      ]
     },
     "execution_count": 160,
     "metadata": {},
     "output_type": "execute_result"
    }
   ],
   "source": [
    "import pandas as pd\n",
    "import matplotlib.pyplot as plt\n",
    "import seaborn as sns\n",
    "\n",
    "\n",
    "df = pd.read_csv('C:\\\\Users\\\\aksha\\\\WCPSS_Data_Analysis\\\\data\\\\Wake_County_Public_Schools.csv')\n",
    "df.head(10)"
   ]
  },
  {
   "cell_type": "code",
   "execution_count": 161,
   "id": "79650977",
   "metadata": {},
   "outputs": [
    {
     "data": {
      "text/plain": [
       "Index(['X', 'Y', 'OBJECTID', 'TAG', 'NAME', 'GRADELEVEL', 'PHONE', 'CALENDAR',\n",
       "       'ADDRESSNUM', 'ADDRESS', 'CITY', 'ZIPCODE', 'MAGNETPROGRAM', 'WEBSITE',\n",
       "       'DISTRICT', 'TYPE'],\n",
       "      dtype='object')"
      ]
     },
     "execution_count": 161,
     "metadata": {},
     "output_type": "execute_result"
    }
   ],
   "source": [
    "df.columns"
   ]
  },
  {
   "cell_type": "code",
   "execution_count": 162,
   "id": "44987c46",
   "metadata": {},
   "outputs": [],
   "source": [
    "df=df.drop(columns=['X','Y','OBJECTID','TAG','PHONE','ADDRESSNUM','ADDRESS','ZIPCODE','DISTRICT','WEBSITE'])"
   ]
  },
  {
   "cell_type": "code",
   "execution_count": 163,
   "id": "a3aa8d4a",
   "metadata": {},
   "outputs": [],
   "source": [
    "df=df.drop(columns='MAGNETPROGRAM')"
   ]
  },
  {
   "cell_type": "code",
   "execution_count": 164,
   "id": "fce36225",
   "metadata": {},
   "outputs": [
    {
     "data": {
      "text/html": [
       "<div>\n",
       "<style scoped>\n",
       "    .dataframe tbody tr th:only-of-type {\n",
       "        vertical-align: middle;\n",
       "    }\n",
       "\n",
       "    .dataframe tbody tr th {\n",
       "        vertical-align: top;\n",
       "    }\n",
       "\n",
       "    .dataframe thead th {\n",
       "        text-align: right;\n",
       "    }\n",
       "</style>\n",
       "<table border=\"1\" class=\"dataframe\">\n",
       "  <thead>\n",
       "    <tr style=\"text-align: right;\">\n",
       "      <th></th>\n",
       "      <th>NAME</th>\n",
       "      <th>GRADELEVEL</th>\n",
       "      <th>CALENDAR</th>\n",
       "      <th>CITY</th>\n",
       "      <th>TYPE</th>\n",
       "    </tr>\n",
       "  </thead>\n",
       "  <tbody>\n",
       "    <tr>\n",
       "      <th>0</th>\n",
       "      <td>Swift Creek Elementary</td>\n",
       "      <td>Elementary</td>\n",
       "      <td>Traditional</td>\n",
       "      <td>Raleigh</td>\n",
       "      <td>Elementary Schools</td>\n",
       "    </tr>\n",
       "    <tr>\n",
       "      <th>1</th>\n",
       "      <td>Briarcliff Elementary</td>\n",
       "      <td>Elementary</td>\n",
       "      <td>Traditional</td>\n",
       "      <td>Cary</td>\n",
       "      <td>Elementary Schools</td>\n",
       "    </tr>\n",
       "    <tr>\n",
       "      <th>2</th>\n",
       "      <td>Farmington Woods Elementary</td>\n",
       "      <td>Elementary</td>\n",
       "      <td>Traditional</td>\n",
       "      <td>Cary</td>\n",
       "      <td>Magnet Elementary School</td>\n",
       "    </tr>\n",
       "    <tr>\n",
       "      <th>4</th>\n",
       "      <td>Adams Elementary</td>\n",
       "      <td>Elementary</td>\n",
       "      <td>Year-Round</td>\n",
       "      <td>Cary</td>\n",
       "      <td>Elementary Schools</td>\n",
       "    </tr>\n",
       "    <tr>\n",
       "      <th>5</th>\n",
       "      <td>Apex Elementary</td>\n",
       "      <td>Elementary</td>\n",
       "      <td>Traditional</td>\n",
       "      <td>Apex</td>\n",
       "      <td>Elementary Schools</td>\n",
       "    </tr>\n",
       "    <tr>\n",
       "      <th>7</th>\n",
       "      <td>Kingswood Elementary</td>\n",
       "      <td>Elementary</td>\n",
       "      <td>Traditional</td>\n",
       "      <td>Cary</td>\n",
       "      <td>Magnet Elementary School</td>\n",
       "    </tr>\n",
       "    <tr>\n",
       "      <th>8</th>\n",
       "      <td>Northwoods Elementary</td>\n",
       "      <td>Elementary</td>\n",
       "      <td>Traditional</td>\n",
       "      <td>Cary</td>\n",
       "      <td>Elementary Schools</td>\n",
       "    </tr>\n",
       "    <tr>\n",
       "      <th>9</th>\n",
       "      <td>Combs Elementary</td>\n",
       "      <td>Elementary</td>\n",
       "      <td>Traditional</td>\n",
       "      <td>Raleigh</td>\n",
       "      <td>Magnet Elementary School</td>\n",
       "    </tr>\n",
       "    <tr>\n",
       "      <th>12</th>\n",
       "      <td>Powell Elementary</td>\n",
       "      <td>Elementary</td>\n",
       "      <td>Traditional</td>\n",
       "      <td>Raleigh</td>\n",
       "      <td>Magnet Elementary School</td>\n",
       "    </tr>\n",
       "    <tr>\n",
       "      <th>15</th>\n",
       "      <td>Washington Elementary</td>\n",
       "      <td>Elementary</td>\n",
       "      <td>Traditional</td>\n",
       "      <td>Raleigh</td>\n",
       "      <td>Magnet Elementary School</td>\n",
       "    </tr>\n",
       "  </tbody>\n",
       "</table>\n",
       "</div>"
      ],
      "text/plain": [
       "                           NAME  GRADELEVEL     CALENDAR     CITY  \\\n",
       "0        Swift Creek Elementary  Elementary  Traditional  Raleigh   \n",
       "1         Briarcliff Elementary  Elementary  Traditional     Cary   \n",
       "2   Farmington Woods Elementary  Elementary  Traditional     Cary   \n",
       "4              Adams Elementary  Elementary   Year-Round     Cary   \n",
       "5               Apex Elementary  Elementary  Traditional     Apex   \n",
       "7          Kingswood Elementary  Elementary  Traditional     Cary   \n",
       "8         Northwoods Elementary  Elementary  Traditional     Cary   \n",
       "9              Combs Elementary  Elementary  Traditional  Raleigh   \n",
       "12            Powell Elementary  Elementary  Traditional  Raleigh   \n",
       "15        Washington Elementary  Elementary  Traditional  Raleigh   \n",
       "\n",
       "                        TYPE  \n",
       "0         Elementary Schools  \n",
       "1         Elementary Schools  \n",
       "2   Magnet Elementary School  \n",
       "4         Elementary Schools  \n",
       "5         Elementary Schools  \n",
       "7   Magnet Elementary School  \n",
       "8         Elementary Schools  \n",
       "9   Magnet Elementary School  \n",
       "12  Magnet Elementary School  \n",
       "15  Magnet Elementary School  "
      ]
     },
     "execution_count": 164,
     "metadata": {},
     "output_type": "execute_result"
    }
   ],
   "source": [
    "df= df[df['GRADELEVEL']=='Elementary']\n",
    "df.head(10)"
   ]
  },
  {
   "cell_type": "code",
   "execution_count": 165,
   "id": "1a58cd88",
   "metadata": {},
   "outputs": [],
   "source": [
    "df= df.drop(columns='GRADELEVEL')"
   ]
  },
  {
   "cell_type": "code",
   "execution_count": 166,
   "id": "f56d641a",
   "metadata": {},
   "outputs": [],
   "source": [
    "df['Magnet_status']= df['TYPE'].apply(lambda x:'Y' if 'Magnet' in x else 'N')"
   ]
  },
  {
   "cell_type": "code",
   "execution_count": 167,
   "id": "01eaafa0",
   "metadata": {},
   "outputs": [
    {
     "data": {
      "text/html": [
       "<div>\n",
       "<style scoped>\n",
       "    .dataframe tbody tr th:only-of-type {\n",
       "        vertical-align: middle;\n",
       "    }\n",
       "\n",
       "    .dataframe tbody tr th {\n",
       "        vertical-align: top;\n",
       "    }\n",
       "\n",
       "    .dataframe thead th {\n",
       "        text-align: right;\n",
       "    }\n",
       "</style>\n",
       "<table border=\"1\" class=\"dataframe\">\n",
       "  <thead>\n",
       "    <tr style=\"text-align: right;\">\n",
       "      <th></th>\n",
       "      <th>NAME</th>\n",
       "      <th>CALENDAR</th>\n",
       "      <th>CITY</th>\n",
       "      <th>TYPE</th>\n",
       "      <th>Magnet_status</th>\n",
       "    </tr>\n",
       "  </thead>\n",
       "  <tbody>\n",
       "    <tr>\n",
       "      <th>0</th>\n",
       "      <td>Swift Creek Elementary</td>\n",
       "      <td>Traditional</td>\n",
       "      <td>Raleigh</td>\n",
       "      <td>Elementary Schools</td>\n",
       "      <td>N</td>\n",
       "    </tr>\n",
       "    <tr>\n",
       "      <th>1</th>\n",
       "      <td>Briarcliff Elementary</td>\n",
       "      <td>Traditional</td>\n",
       "      <td>Cary</td>\n",
       "      <td>Elementary Schools</td>\n",
       "      <td>N</td>\n",
       "    </tr>\n",
       "    <tr>\n",
       "      <th>2</th>\n",
       "      <td>Farmington Woods Elementary</td>\n",
       "      <td>Traditional</td>\n",
       "      <td>Cary</td>\n",
       "      <td>Magnet Elementary School</td>\n",
       "      <td>Y</td>\n",
       "    </tr>\n",
       "    <tr>\n",
       "      <th>4</th>\n",
       "      <td>Adams Elementary</td>\n",
       "      <td>Year-Round</td>\n",
       "      <td>Cary</td>\n",
       "      <td>Elementary Schools</td>\n",
       "      <td>N</td>\n",
       "    </tr>\n",
       "    <tr>\n",
       "      <th>5</th>\n",
       "      <td>Apex Elementary</td>\n",
       "      <td>Traditional</td>\n",
       "      <td>Apex</td>\n",
       "      <td>Elementary Schools</td>\n",
       "      <td>N</td>\n",
       "    </tr>\n",
       "    <tr>\n",
       "      <th>7</th>\n",
       "      <td>Kingswood Elementary</td>\n",
       "      <td>Traditional</td>\n",
       "      <td>Cary</td>\n",
       "      <td>Magnet Elementary School</td>\n",
       "      <td>Y</td>\n",
       "    </tr>\n",
       "    <tr>\n",
       "      <th>8</th>\n",
       "      <td>Northwoods Elementary</td>\n",
       "      <td>Traditional</td>\n",
       "      <td>Cary</td>\n",
       "      <td>Elementary Schools</td>\n",
       "      <td>N</td>\n",
       "    </tr>\n",
       "    <tr>\n",
       "      <th>9</th>\n",
       "      <td>Combs Elementary</td>\n",
       "      <td>Traditional</td>\n",
       "      <td>Raleigh</td>\n",
       "      <td>Magnet Elementary School</td>\n",
       "      <td>Y</td>\n",
       "    </tr>\n",
       "    <tr>\n",
       "      <th>12</th>\n",
       "      <td>Powell Elementary</td>\n",
       "      <td>Traditional</td>\n",
       "      <td>Raleigh</td>\n",
       "      <td>Magnet Elementary School</td>\n",
       "      <td>Y</td>\n",
       "    </tr>\n",
       "    <tr>\n",
       "      <th>15</th>\n",
       "      <td>Washington Elementary</td>\n",
       "      <td>Traditional</td>\n",
       "      <td>Raleigh</td>\n",
       "      <td>Magnet Elementary School</td>\n",
       "      <td>Y</td>\n",
       "    </tr>\n",
       "  </tbody>\n",
       "</table>\n",
       "</div>"
      ],
      "text/plain": [
       "                           NAME     CALENDAR     CITY  \\\n",
       "0        Swift Creek Elementary  Traditional  Raleigh   \n",
       "1         Briarcliff Elementary  Traditional     Cary   \n",
       "2   Farmington Woods Elementary  Traditional     Cary   \n",
       "4              Adams Elementary   Year-Round     Cary   \n",
       "5               Apex Elementary  Traditional     Apex   \n",
       "7          Kingswood Elementary  Traditional     Cary   \n",
       "8         Northwoods Elementary  Traditional     Cary   \n",
       "9              Combs Elementary  Traditional  Raleigh   \n",
       "12            Powell Elementary  Traditional  Raleigh   \n",
       "15        Washington Elementary  Traditional  Raleigh   \n",
       "\n",
       "                        TYPE Magnet_status  \n",
       "0         Elementary Schools             N  \n",
       "1         Elementary Schools             N  \n",
       "2   Magnet Elementary School             Y  \n",
       "4         Elementary Schools             N  \n",
       "5         Elementary Schools             N  \n",
       "7   Magnet Elementary School             Y  \n",
       "8         Elementary Schools             N  \n",
       "9   Magnet Elementary School             Y  \n",
       "12  Magnet Elementary School             Y  \n",
       "15  Magnet Elementary School             Y  "
      ]
     },
     "execution_count": 167,
     "metadata": {},
     "output_type": "execute_result"
    }
   ],
   "source": [
    "df.head(10)"
   ]
  },
  {
   "cell_type": "code",
   "execution_count": 168,
   "id": "1d3a9298",
   "metadata": {},
   "outputs": [],
   "source": [
    "df = df.drop(columns='TYPE')"
   ]
  },
  {
   "cell_type": "code",
   "execution_count": 169,
   "id": "366efc90",
   "metadata": {},
   "outputs": [
    {
     "data": {
      "text/plain": [
       "array(['Traditional', 'Year-Round', 'Year-Round, Track 4 Only',\n",
       "       'Modified', 'TBD'], dtype=object)"
      ]
     },
     "execution_count": 169,
     "metadata": {},
     "output_type": "execute_result"
    }
   ],
   "source": [
    "df['CALENDAR'].unique()"
   ]
  },
  {
   "cell_type": "code",
   "execution_count": 170,
   "id": "426706b7",
   "metadata": {},
   "outputs": [],
   "source": [
    "TBD = df.groupby(['CALENDAR']).agg('count')"
   ]
  },
  {
   "cell_type": "code",
   "execution_count": 171,
   "id": "14b46241",
   "metadata": {},
   "outputs": [
    {
     "name": "stdout",
     "output_type": "stream",
     "text": [
      "                          NAME  CITY  Magnet_status\n",
      "CALENDAR                                           \n",
      "Modified                     3     3              3\n",
      "TBD                          8     8              8\n",
      "Traditional                 76    76             76\n",
      "Year-Round                  28    28             28\n",
      "Year-Round, Track 4 Only     9     9              9\n"
     ]
    }
   ],
   "source": [
    "print(TBD)"
   ]
  },
  {
   "cell_type": "code",
   "execution_count": 172,
   "id": "bac485e6",
   "metadata": {},
   "outputs": [],
   "source": [
    "df= df.drop(df[df['CALENDAR'].isin(['TBD','Modified'])].index)"
   ]
  },
  {
   "cell_type": "code",
   "execution_count": 173,
   "id": "335d996b",
   "metadata": {},
   "outputs": [
    {
     "data": {
      "text/plain": [
       "CALENDAR\n",
       "Traditional                 76\n",
       "Year-Round                  28\n",
       "Year-Round, Track 4 Only     9\n",
       "Name: count, dtype: int64"
      ]
     },
     "execution_count": 173,
     "metadata": {},
     "output_type": "execute_result"
    }
   ],
   "source": [
    "df['CALENDAR'].value_counts()"
   ]
  },
  {
   "cell_type": "code",
   "execution_count": 174,
   "id": "ae6983d1",
   "metadata": {},
   "outputs": [],
   "source": [
    "df['CALENDAR']= df['CALENDAR'].apply(lambda x: 'Year-Round' if x == 'Year-Round, Track 4 Only' else x)\n"
   ]
  },
  {
   "cell_type": "code",
   "execution_count": 175,
   "id": "c7c773a7",
   "metadata": {},
   "outputs": [
    {
     "data": {
      "text/plain": [
       "CALENDAR\n",
       "Traditional    76\n",
       "Year-Round     37\n",
       "Name: count, dtype: int64"
      ]
     },
     "execution_count": 175,
     "metadata": {},
     "output_type": "execute_result"
    }
   ],
   "source": [
    "df['CALENDAR'].value_counts()"
   ]
  },
  {
   "cell_type": "code",
   "execution_count": 217,
   "id": "a322fc12",
   "metadata": {},
   "outputs": [],
   "source": [
    "df_results= pd.read_excel(\"C:\\\\Users\\\\aksha\\\\WCPSS_Data_Analysis\\\\data\\\\2023-24 School Assessment and Other Indicator Data.xlsx\",sheet_name='Assess-Ind Data Set')"
   ]
  },
  {
   "cell_type": "code",
   "execution_count": 218,
   "id": "5ae11aa8",
   "metadata": {},
   "outputs": [
    {
     "data": {
      "text/html": [
       "<div>\n",
       "<style scoped>\n",
       "    .dataframe tbody tr th:only-of-type {\n",
       "        vertical-align: middle;\n",
       "    }\n",
       "\n",
       "    .dataframe tbody tr th {\n",
       "        vertical-align: top;\n",
       "    }\n",
       "\n",
       "    .dataframe thead th {\n",
       "        text-align: right;\n",
       "    }\n",
       "</style>\n",
       "<table border=\"1\" class=\"dataframe\">\n",
       "  <thead>\n",
       "    <tr style=\"text-align: right;\">\n",
       "      <th></th>\n",
       "      <th>reporting_year</th>\n",
       "      <th>lea_code</th>\n",
       "      <th>lea_name</th>\n",
       "      <th>school_code</th>\n",
       "      <th>school_name</th>\n",
       "      <th>sbe_region</th>\n",
       "      <th>grade_span</th>\n",
       "      <th>title_1</th>\n",
       "      <th>subgroup</th>\n",
       "      <th>subject</th>\n",
       "      <th>den</th>\n",
       "      <th>total_pct</th>\n",
       "      <th>notprof_pct</th>\n",
       "      <th>lev3_pct</th>\n",
       "      <th>lev4_pct</th>\n",
       "      <th>lev5_pct</th>\n",
       "      <th>glp_pct</th>\n",
       "      <th>ccr_pct</th>\n",
       "    </tr>\n",
       "  </thead>\n",
       "  <tbody>\n",
       "    <tr>\n",
       "      <th>0</th>\n",
       "      <td>2024</td>\n",
       "      <td>NC</td>\n",
       "      <td>State of North Carolina</td>\n",
       "      <td>NC</td>\n",
       "      <td>State of North Carolina</td>\n",
       "      <td>NaN</td>\n",
       "      <td>NaN</td>\n",
       "      <td>NaN</td>\n",
       "      <td>AIG</td>\n",
       "      <td>ACT</td>\n",
       "      <td>18739</td>\n",
       "      <td>86.8</td>\n",
       "      <td>NaN</td>\n",
       "      <td>NaN</td>\n",
       "      <td>NaN</td>\n",
       "      <td>NaN</td>\n",
       "      <td>NaN</td>\n",
       "      <td>NaN</td>\n",
       "    </tr>\n",
       "    <tr>\n",
       "      <th>1</th>\n",
       "      <td>2024</td>\n",
       "      <td>NC</td>\n",
       "      <td>State of North Carolina</td>\n",
       "      <td>NC</td>\n",
       "      <td>State of North Carolina</td>\n",
       "      <td>NaN</td>\n",
       "      <td>NaN</td>\n",
       "      <td>NaN</td>\n",
       "      <td>ALL</td>\n",
       "      <td>ACT</td>\n",
       "      <td>105716</td>\n",
       "      <td>40.2</td>\n",
       "      <td>NaN</td>\n",
       "      <td>NaN</td>\n",
       "      <td>NaN</td>\n",
       "      <td>NaN</td>\n",
       "      <td>NaN</td>\n",
       "      <td>NaN</td>\n",
       "    </tr>\n",
       "    <tr>\n",
       "      <th>2</th>\n",
       "      <td>2024</td>\n",
       "      <td>NC</td>\n",
       "      <td>State of North Carolina</td>\n",
       "      <td>NC</td>\n",
       "      <td>State of North Carolina</td>\n",
       "      <td>NaN</td>\n",
       "      <td>NaN</td>\n",
       "      <td>NaN</td>\n",
       "      <td>AMIN</td>\n",
       "      <td>ACT</td>\n",
       "      <td>980</td>\n",
       "      <td>19.6</td>\n",
       "      <td>NaN</td>\n",
       "      <td>NaN</td>\n",
       "      <td>NaN</td>\n",
       "      <td>NaN</td>\n",
       "      <td>NaN</td>\n",
       "      <td>NaN</td>\n",
       "    </tr>\n",
       "    <tr>\n",
       "      <th>3</th>\n",
       "      <td>2024</td>\n",
       "      <td>NC</td>\n",
       "      <td>State of North Carolina</td>\n",
       "      <td>NC</td>\n",
       "      <td>State of North Carolina</td>\n",
       "      <td>NaN</td>\n",
       "      <td>NaN</td>\n",
       "      <td>NaN</td>\n",
       "      <td>ASIA</td>\n",
       "      <td>ACT</td>\n",
       "      <td>4316</td>\n",
       "      <td>72.4</td>\n",
       "      <td>NaN</td>\n",
       "      <td>NaN</td>\n",
       "      <td>NaN</td>\n",
       "      <td>NaN</td>\n",
       "      <td>NaN</td>\n",
       "      <td>NaN</td>\n",
       "    </tr>\n",
       "    <tr>\n",
       "      <th>4</th>\n",
       "      <td>2024</td>\n",
       "      <td>NC</td>\n",
       "      <td>State of North Carolina</td>\n",
       "      <td>NC</td>\n",
       "      <td>State of North Carolina</td>\n",
       "      <td>NaN</td>\n",
       "      <td>NaN</td>\n",
       "      <td>NaN</td>\n",
       "      <td>BLCK</td>\n",
       "      <td>ACT</td>\n",
       "      <td>24022</td>\n",
       "      <td>18.3</td>\n",
       "      <td>NaN</td>\n",
       "      <td>NaN</td>\n",
       "      <td>NaN</td>\n",
       "      <td>NaN</td>\n",
       "      <td>NaN</td>\n",
       "      <td>NaN</td>\n",
       "    </tr>\n",
       "  </tbody>\n",
       "</table>\n",
       "</div>"
      ],
      "text/plain": [
       "   reporting_year lea_code                 lea_name school_code  \\\n",
       "0            2024       NC  State of North Carolina          NC   \n",
       "1            2024       NC  State of North Carolina          NC   \n",
       "2            2024       NC  State of North Carolina          NC   \n",
       "3            2024       NC  State of North Carolina          NC   \n",
       "4            2024       NC  State of North Carolina          NC   \n",
       "\n",
       "               school_name sbe_region grade_span title_1 subgroup subject  \\\n",
       "0  State of North Carolina        NaN        NaN     NaN      AIG     ACT   \n",
       "1  State of North Carolina        NaN        NaN     NaN      ALL     ACT   \n",
       "2  State of North Carolina        NaN        NaN     NaN     AMIN     ACT   \n",
       "3  State of North Carolina        NaN        NaN     NaN     ASIA     ACT   \n",
       "4  State of North Carolina        NaN        NaN     NaN     BLCK     ACT   \n",
       "\n",
       "      den total_pct notprof_pct lev3_pct lev4_pct lev5_pct glp_pct ccr_pct  \n",
       "0   18739      86.8         NaN      NaN      NaN      NaN     NaN     NaN  \n",
       "1  105716      40.2         NaN      NaN      NaN      NaN     NaN     NaN  \n",
       "2     980      19.6         NaN      NaN      NaN      NaN     NaN     NaN  \n",
       "3    4316      72.4         NaN      NaN      NaN      NaN     NaN     NaN  \n",
       "4   24022      18.3         NaN      NaN      NaN      NaN     NaN     NaN  "
      ]
     },
     "execution_count": 218,
     "metadata": {},
     "output_type": "execute_result"
    }
   ],
   "source": [
    "df_results.head()"
   ]
  },
  {
   "cell_type": "code",
   "execution_count": 219,
   "id": "1b770ead",
   "metadata": {},
   "outputs": [
    {
     "data": {
      "text/plain": [
       "Index(['reporting_year', 'lea_code', 'lea_name', 'school_code', 'school_name',\n",
       "       'sbe_region', 'grade_span', 'title_1', 'subgroup', 'subject', 'den',\n",
       "       'total_pct', 'notprof_pct', 'lev3_pct', 'lev4_pct', 'lev5_pct',\n",
       "       'glp_pct', 'ccr_pct'],\n",
       "      dtype='object')"
      ]
     },
     "execution_count": 219,
     "metadata": {},
     "output_type": "execute_result"
    }
   ],
   "source": [
    "df_results.columns"
   ]
  },
  {
   "cell_type": "code",
   "execution_count": 220,
   "id": "10b908ed",
   "metadata": {},
   "outputs": [],
   "source": [
    "df_results = df_results.drop(columns=['reporting_year', 'lea_code', 'lea_name', 'school_code','sbe_region','title_1','den',\n",
    "       'total_pct', 'notprof_pct', 'lev3_pct', 'lev4_pct', 'lev5_pct'])"
   ]
  },
  {
   "cell_type": "code",
   "execution_count": 221,
   "id": "bcef973c",
   "metadata": {},
   "outputs": [
    {
     "data": {
      "text/html": [
       "<div>\n",
       "<style scoped>\n",
       "    .dataframe tbody tr th:only-of-type {\n",
       "        vertical-align: middle;\n",
       "    }\n",
       "\n",
       "    .dataframe tbody tr th {\n",
       "        vertical-align: top;\n",
       "    }\n",
       "\n",
       "    .dataframe thead th {\n",
       "        text-align: right;\n",
       "    }\n",
       "</style>\n",
       "<table border=\"1\" class=\"dataframe\">\n",
       "  <thead>\n",
       "    <tr style=\"text-align: right;\">\n",
       "      <th></th>\n",
       "      <th>school_name</th>\n",
       "      <th>grade_span</th>\n",
       "      <th>subgroup</th>\n",
       "      <th>subject</th>\n",
       "      <th>glp_pct</th>\n",
       "      <th>ccr_pct</th>\n",
       "    </tr>\n",
       "  </thead>\n",
       "  <tbody>\n",
       "    <tr>\n",
       "      <th>0</th>\n",
       "      <td>State of North Carolina</td>\n",
       "      <td>NaN</td>\n",
       "      <td>AIG</td>\n",
       "      <td>ACT</td>\n",
       "      <td>NaN</td>\n",
       "      <td>NaN</td>\n",
       "    </tr>\n",
       "    <tr>\n",
       "      <th>1</th>\n",
       "      <td>State of North Carolina</td>\n",
       "      <td>NaN</td>\n",
       "      <td>ALL</td>\n",
       "      <td>ACT</td>\n",
       "      <td>NaN</td>\n",
       "      <td>NaN</td>\n",
       "    </tr>\n",
       "    <tr>\n",
       "      <th>2</th>\n",
       "      <td>State of North Carolina</td>\n",
       "      <td>NaN</td>\n",
       "      <td>AMIN</td>\n",
       "      <td>ACT</td>\n",
       "      <td>NaN</td>\n",
       "      <td>NaN</td>\n",
       "    </tr>\n",
       "    <tr>\n",
       "      <th>3</th>\n",
       "      <td>State of North Carolina</td>\n",
       "      <td>NaN</td>\n",
       "      <td>ASIA</td>\n",
       "      <td>ACT</td>\n",
       "      <td>NaN</td>\n",
       "      <td>NaN</td>\n",
       "    </tr>\n",
       "    <tr>\n",
       "      <th>4</th>\n",
       "      <td>State of North Carolina</td>\n",
       "      <td>NaN</td>\n",
       "      <td>BLCK</td>\n",
       "      <td>ACT</td>\n",
       "      <td>NaN</td>\n",
       "      <td>NaN</td>\n",
       "    </tr>\n",
       "    <tr>\n",
       "      <th>5</th>\n",
       "      <td>State of North Carolina</td>\n",
       "      <td>NaN</td>\n",
       "      <td>EDS</td>\n",
       "      <td>ACT</td>\n",
       "      <td>NaN</td>\n",
       "      <td>NaN</td>\n",
       "    </tr>\n",
       "    <tr>\n",
       "      <th>6</th>\n",
       "      <td>State of North Carolina</td>\n",
       "      <td>NaN</td>\n",
       "      <td>ELS</td>\n",
       "      <td>ACT</td>\n",
       "      <td>NaN</td>\n",
       "      <td>NaN</td>\n",
       "    </tr>\n",
       "    <tr>\n",
       "      <th>7</th>\n",
       "      <td>State of North Carolina</td>\n",
       "      <td>NaN</td>\n",
       "      <td>FCS</td>\n",
       "      <td>ACT</td>\n",
       "      <td>NaN</td>\n",
       "      <td>NaN</td>\n",
       "    </tr>\n",
       "    <tr>\n",
       "      <th>8</th>\n",
       "      <td>State of North Carolina</td>\n",
       "      <td>NaN</td>\n",
       "      <td>FEM</td>\n",
       "      <td>ACT</td>\n",
       "      <td>NaN</td>\n",
       "      <td>NaN</td>\n",
       "    </tr>\n",
       "    <tr>\n",
       "      <th>9</th>\n",
       "      <td>State of North Carolina</td>\n",
       "      <td>NaN</td>\n",
       "      <td>HISP</td>\n",
       "      <td>ACT</td>\n",
       "      <td>NaN</td>\n",
       "      <td>NaN</td>\n",
       "    </tr>\n",
       "  </tbody>\n",
       "</table>\n",
       "</div>"
      ],
      "text/plain": [
       "               school_name grade_span subgroup subject glp_pct ccr_pct\n",
       "0  State of North Carolina        NaN      AIG     ACT     NaN     NaN\n",
       "1  State of North Carolina        NaN      ALL     ACT     NaN     NaN\n",
       "2  State of North Carolina        NaN     AMIN     ACT     NaN     NaN\n",
       "3  State of North Carolina        NaN     ASIA     ACT     NaN     NaN\n",
       "4  State of North Carolina        NaN     BLCK     ACT     NaN     NaN\n",
       "5  State of North Carolina        NaN      EDS     ACT     NaN     NaN\n",
       "6  State of North Carolina        NaN      ELS     ACT     NaN     NaN\n",
       "7  State of North Carolina        NaN      FCS     ACT     NaN     NaN\n",
       "8  State of North Carolina        NaN      FEM     ACT     NaN     NaN\n",
       "9  State of North Carolina        NaN     HISP     ACT     NaN     NaN"
      ]
     },
     "execution_count": 221,
     "metadata": {},
     "output_type": "execute_result"
    }
   ],
   "source": [
    "df_results.head(10)"
   ]
  },
  {
   "cell_type": "code",
   "execution_count": 222,
   "id": "befc4420",
   "metadata": {},
   "outputs": [],
   "source": [
    "df_results= df_results[df_results['subgroup']=='ALL']"
   ]
  },
  {
   "cell_type": "code",
   "execution_count": 223,
   "id": "8eedd85f",
   "metadata": {},
   "outputs": [
    {
     "data": {
      "text/plain": [
       "grade_span\n",
       "PK-05    14101\n",
       "06-08     8294\n",
       "09-12     7947\n",
       "0K-05     5170\n",
       "0K-12     3585\n",
       "0K-08     2996\n",
       "PK-08     1756\n",
       "09-13     1665\n",
       "06-12     1486\n",
       "PK-12      713\n",
       "05-08      535\n",
       "PK-06      510\n",
       "03-05      498\n",
       "PK-04      437\n",
       "0K-06      413\n",
       "07-08      221\n",
       "0K-10      194\n",
       "0K-11      164\n",
       "0K-04      137\n",
       "05-12      134\n",
       "07-12      128\n",
       "04-05      123\n",
       "04-12      111\n",
       "PK-03      101\n",
       "06-13       97\n",
       "05-06       90\n",
       "04-08       89\n",
       "03-11       82\n",
       "11-13       73\n",
       "06-10       69\n",
       "0K-07       66\n",
       "0K-09       58\n",
       "08-12       55\n",
       "02-05       54\n",
       "PK-02       54\n",
       "01-05       54\n",
       "06-11       51\n",
       "11-12       43\n",
       "01-12       41\n",
       "07-13       32\n",
       "02-12       29\n",
       "03-08       27\n",
       "10-12       25\n",
       "03-12       23\n",
       "02-04       23\n",
       "09-10       21\n",
       "02-03       20\n",
       "06-09       20\n",
       "04-06       15\n",
       "0K-02       15\n",
       "0K-03       14\n",
       "10-13        7\n",
       "09-09        6\n",
       "09-11        5\n",
       "PK-01        3\n",
       "0K-01        3\n",
       "01-02        3\n",
       "Name: count, dtype: int64"
      ]
     },
     "execution_count": 223,
     "metadata": {},
     "output_type": "execute_result"
    }
   ],
   "source": [
    "df_results['grade_span'].value_counts()"
   ]
  },
  {
   "cell_type": "code",
   "execution_count": 224,
   "id": "37357755",
   "metadata": {},
   "outputs": [
    {
     "data": {
      "text/html": [
       "<div>\n",
       "<style scoped>\n",
       "    .dataframe tbody tr th:only-of-type {\n",
       "        vertical-align: middle;\n",
       "    }\n",
       "\n",
       "    .dataframe tbody tr th {\n",
       "        vertical-align: top;\n",
       "    }\n",
       "\n",
       "    .dataframe thead th {\n",
       "        text-align: right;\n",
       "    }\n",
       "</style>\n",
       "<table border=\"1\" class=\"dataframe\">\n",
       "  <thead>\n",
       "    <tr style=\"text-align: right;\">\n",
       "      <th></th>\n",
       "      <th>school_name</th>\n",
       "      <th>grade_span</th>\n",
       "      <th>subgroup</th>\n",
       "      <th>subject</th>\n",
       "      <th>glp_pct</th>\n",
       "      <th>ccr_pct</th>\n",
       "    </tr>\n",
       "  </thead>\n",
       "  <tbody>\n",
       "    <tr>\n",
       "      <th>727009</th>\n",
       "      <td>Wilson Preparatory Academy</td>\n",
       "      <td>0K-12</td>\n",
       "      <td>ALL</td>\n",
       "      <td>RD08</td>\n",
       "      <td>50</td>\n",
       "      <td>18.8</td>\n",
       "    </tr>\n",
       "    <tr>\n",
       "      <th>727018</th>\n",
       "      <td>Wilson Preparatory Academy</td>\n",
       "      <td>0K-12</td>\n",
       "      <td>ALL</td>\n",
       "      <td>RDGS</td>\n",
       "      <td>59.6</td>\n",
       "      <td>28.9</td>\n",
       "    </tr>\n",
       "    <tr>\n",
       "      <th>727032</th>\n",
       "      <td>Wilson Preparatory Academy</td>\n",
       "      <td>0K-12</td>\n",
       "      <td>ALL</td>\n",
       "      <td>SC05</td>\n",
       "      <td>69.6</td>\n",
       "      <td>53.6</td>\n",
       "    </tr>\n",
       "    <tr>\n",
       "      <th>727042</th>\n",
       "      <td>Wilson Preparatory Academy</td>\n",
       "      <td>0K-12</td>\n",
       "      <td>ALL</td>\n",
       "      <td>SC08</td>\n",
       "      <td>71.9</td>\n",
       "      <td>54.7</td>\n",
       "    </tr>\n",
       "    <tr>\n",
       "      <th>727051</th>\n",
       "      <td>Wilson Preparatory Academy</td>\n",
       "      <td>0K-12</td>\n",
       "      <td>ALL</td>\n",
       "      <td>SCGS</td>\n",
       "      <td>70.8</td>\n",
       "      <td>54.2</td>\n",
       "    </tr>\n",
       "  </tbody>\n",
       "</table>\n",
       "</div>"
      ],
      "text/plain": [
       "                       school_name grade_span subgroup subject glp_pct ccr_pct\n",
       "727009  Wilson Preparatory Academy      0K-12      ALL    RD08      50    18.8\n",
       "727018  Wilson Preparatory Academy      0K-12      ALL    RDGS    59.6    28.9\n",
       "727032  Wilson Preparatory Academy      0K-12      ALL    SC05    69.6    53.6\n",
       "727042  Wilson Preparatory Academy      0K-12      ALL    SC08    71.9    54.7\n",
       "727051  Wilson Preparatory Academy      0K-12      ALL    SCGS    70.8    54.2"
      ]
     },
     "execution_count": 224,
     "metadata": {},
     "output_type": "execute_result"
    }
   ],
   "source": [
    "df_results.tail()"
   ]
  },
  {
   "cell_type": "code",
   "execution_count": 225,
   "id": "be7b36d0",
   "metadata": {},
   "outputs": [
    {
     "data": {
      "text/plain": [
       "array(['ACT', 'ACT4B', 'ACTALL', 'ACTEN', 'ACTMA', 'ACTRD', 'ACTSC',\n",
       "       'AWA', 'BI', 'CGRE', 'CGRS', 'E2', 'ELP', 'ELPA', 'ELPX', 'EOC',\n",
       "       'EOG', 'EOG03', 'EOG04', 'EOG05', 'EOG06', 'EOG07', 'EOG08', 'M1',\n",
       "       'M1SEP', 'M3', 'M8SEP', 'MA03', 'MA04', 'MA05', 'MA06', 'MA07',\n",
       "       'MA08', 'MAGS', 'MCR', 'PCALL', 'RD03', 'RD04', 'RD05', 'RD06',\n",
       "       'RD07', 'RD08', 'RDGS', 'SC05', 'SC08', 'SCGS', 'WK'], dtype=object)"
      ]
     },
     "execution_count": 225,
     "metadata": {},
     "output_type": "execute_result"
    }
   ],
   "source": [
    "df_results['subject'].unique()"
   ]
  },
  {
   "cell_type": "code",
   "execution_count": 226,
   "id": "716d495d",
   "metadata": {},
   "outputs": [],
   "source": [
    "df_results = df_results[df_results['subject']=='EOG']"
   ]
  },
  {
   "cell_type": "code",
   "execution_count": 227,
   "id": "1739b15b",
   "metadata": {},
   "outputs": [
    {
     "data": {
      "text/plain": [
       "subject\n",
       "EOG    2237\n",
       "Name: count, dtype: int64"
      ]
     },
     "execution_count": 227,
     "metadata": {},
     "output_type": "execute_result"
    }
   ],
   "source": [
    "df_results['subject'].value_counts()"
   ]
  },
  {
   "cell_type": "code",
   "execution_count": 228,
   "id": "813797b1",
   "metadata": {},
   "outputs": [
    {
     "data": {
      "text/plain": [
       "school_name\n",
       "Central Elementary             7\n",
       "Union Elementary               5\n",
       "Southwest Elementary           4\n",
       "Bethel Elementary              4\n",
       "New Hope Elementary            4\n",
       "                              ..\n",
       "Franklin Academy               1\n",
       "Marvin B Smith Elementary      1\n",
       "North Graham Elementary        1\n",
       "East Wake Academy              1\n",
       "Alamance-Burlington Schools    1\n",
       "Name: count, Length: 2150, dtype: int64"
      ]
     },
     "execution_count": 228,
     "metadata": {},
     "output_type": "execute_result"
    }
   ],
   "source": [
    "df_results['school_name'].value_counts()"
   ]
  },
  {
   "cell_type": "code",
   "execution_count": 229,
   "id": "90e38165",
   "metadata": {},
   "outputs": [],
   "source": [
    "df_results['school_type']= df_results['school_name'].apply(lambda x :'Elementary' if 'Elementary'in x else 'other' )"
   ]
  },
  {
   "cell_type": "code",
   "execution_count": 230,
   "id": "7b612b82",
   "metadata": {},
   "outputs": [],
   "source": [
    "df_results = df_results[df_results['school_type']=='Elementary']"
   ]
  },
  {
   "cell_type": "code",
   "execution_count": 231,
   "id": "c2f4153f",
   "metadata": {},
   "outputs": [
    {
     "data": {
      "text/plain": [
       "school_type\n",
       "Elementary    1191\n",
       "Name: count, dtype: int64"
      ]
     },
     "execution_count": 231,
     "metadata": {},
     "output_type": "execute_result"
    }
   ],
   "source": [
    "df_results['school_type'].value_counts()"
   ]
  },
  {
   "cell_type": "code",
   "execution_count": 232,
   "id": "9c3d4ffc",
   "metadata": {},
   "outputs": [
    {
     "data": {
      "text/html": [
       "<div>\n",
       "<style scoped>\n",
       "    .dataframe tbody tr th:only-of-type {\n",
       "        vertical-align: middle;\n",
       "    }\n",
       "\n",
       "    .dataframe tbody tr th {\n",
       "        vertical-align: top;\n",
       "    }\n",
       "\n",
       "    .dataframe thead th {\n",
       "        text-align: right;\n",
       "    }\n",
       "</style>\n",
       "<table border=\"1\" class=\"dataframe\">\n",
       "  <thead>\n",
       "    <tr style=\"text-align: right;\">\n",
       "      <th></th>\n",
       "      <th>school_name</th>\n",
       "      <th>grade_span</th>\n",
       "      <th>subgroup</th>\n",
       "      <th>subject</th>\n",
       "      <th>glp_pct</th>\n",
       "      <th>ccr_pct</th>\n",
       "      <th>school_type</th>\n",
       "    </tr>\n",
       "  </thead>\n",
       "  <tbody>\n",
       "    <tr>\n",
       "      <th>607408</th>\n",
       "      <td>Poe Elementary</td>\n",
       "      <td>PK-05</td>\n",
       "      <td>ALL</td>\n",
       "      <td>EOG</td>\n",
       "      <td>61.2</td>\n",
       "      <td>44.9</td>\n",
       "      <td>Elementary</td>\n",
       "    </tr>\n",
       "  </tbody>\n",
       "</table>\n",
       "</div>"
      ],
      "text/plain": [
       "           school_name grade_span subgroup subject glp_pct ccr_pct school_type\n",
       "607408  Poe Elementary      PK-05      ALL     EOG    61.2    44.9  Elementary"
      ]
     },
     "execution_count": 232,
     "metadata": {},
     "output_type": "execute_result"
    }
   ],
   "source": [
    "df_results[df_results['school_name'].str.contains('Poe')]"
   ]
  },
  {
   "cell_type": "code",
   "execution_count": 233,
   "id": "722dc90a",
   "metadata": {},
   "outputs": [
    {
     "data": {
      "text/plain": [
       "2052      False\n",
       "2303      False\n",
       "2806      False\n",
       "3032      False\n",
       "3534      False\n",
       "          ...  \n",
       "654230     True\n",
       "654420    False\n",
       "655033    False\n",
       "655434    False\n",
       "656038    False\n",
       "Name: school_name, Length: 1191, dtype: bool"
      ]
     },
     "execution_count": 233,
     "metadata": {},
     "output_type": "execute_result"
    }
   ],
   "source": [
    "df_results['school_name'].duplicated()"
   ]
  },
  {
   "cell_type": "code",
   "execution_count": 234,
   "id": "ca472835",
   "metadata": {},
   "outputs": [],
   "source": [
    "dups=df_results['school_name'].duplicated().sum()"
   ]
  },
  {
   "cell_type": "code",
   "execution_count": 235,
   "id": "69560b8b",
   "metadata": {},
   "outputs": [
    {
     "name": "stdout",
     "output_type": "stream",
     "text": [
      "77\n"
     ]
    }
   ],
   "source": [
    "print(dups)"
   ]
  },
  {
   "cell_type": "code",
   "execution_count": 236,
   "id": "f2076f6a",
   "metadata": {},
   "outputs": [],
   "source": [
    "df_results = df_results.drop_duplicates()"
   ]
  },
  {
   "cell_type": "code",
   "execution_count": 237,
   "id": "f5ec7d0d",
   "metadata": {},
   "outputs": [
    {
     "data": {
      "text/plain": [
       "school_type\n",
       "Elementary    1191\n",
       "Name: count, dtype: int64"
      ]
     },
     "execution_count": 237,
     "metadata": {},
     "output_type": "execute_result"
    }
   ],
   "source": [
    "df_results['school_type'].value_counts()"
   ]
  },
  {
   "cell_type": "code",
   "execution_count": 238,
   "id": "8468b084",
   "metadata": {},
   "outputs": [
    {
     "data": {
      "text/html": [
       "<div>\n",
       "<style scoped>\n",
       "    .dataframe tbody tr th:only-of-type {\n",
       "        vertical-align: middle;\n",
       "    }\n",
       "\n",
       "    .dataframe tbody tr th {\n",
       "        vertical-align: top;\n",
       "    }\n",
       "\n",
       "    .dataframe thead th {\n",
       "        text-align: right;\n",
       "    }\n",
       "</style>\n",
       "<table border=\"1\" class=\"dataframe\">\n",
       "  <thead>\n",
       "    <tr style=\"text-align: right;\">\n",
       "      <th></th>\n",
       "      <th>school_name</th>\n",
       "      <th>grade_span</th>\n",
       "      <th>subgroup</th>\n",
       "      <th>subject</th>\n",
       "      <th>glp_pct</th>\n",
       "      <th>ccr_pct</th>\n",
       "      <th>school_type</th>\n",
       "    </tr>\n",
       "  </thead>\n",
       "  <tbody>\n",
       "    <tr>\n",
       "      <th>597585</th>\n",
       "      <td>Laurel Park Elementary</td>\n",
       "      <td>PK-05</td>\n",
       "      <td>ALL</td>\n",
       "      <td>EOG</td>\n",
       "      <td>79.3</td>\n",
       "      <td>62.9</td>\n",
       "      <td>Elementary</td>\n",
       "    </tr>\n",
       "    <tr>\n",
       "      <th>438797</th>\n",
       "      <td>Heritage Elementary School</td>\n",
       "      <td>0K-05</td>\n",
       "      <td>ALL</td>\n",
       "      <td>EOG</td>\n",
       "      <td>52.7</td>\n",
       "      <td>33.6</td>\n",
       "      <td>Elementary</td>\n",
       "    </tr>\n",
       "    <tr>\n",
       "      <th>229046</th>\n",
       "      <td>Woodhill Elementary</td>\n",
       "      <td>PK-05</td>\n",
       "      <td>ALL</td>\n",
       "      <td>EOG</td>\n",
       "      <td>27.3</td>\n",
       "      <td>13.2</td>\n",
       "      <td>Elementary</td>\n",
       "    </tr>\n",
       "    <tr>\n",
       "      <th>577961</th>\n",
       "      <td>Brentwood Elementary</td>\n",
       "      <td>PK-05</td>\n",
       "      <td>ALL</td>\n",
       "      <td>EOG</td>\n",
       "      <td>44.6</td>\n",
       "      <td>30.1</td>\n",
       "      <td>Elementary</td>\n",
       "    </tr>\n",
       "    <tr>\n",
       "      <th>508942</th>\n",
       "      <td>Williamsburg Elementary</td>\n",
       "      <td>PK-05</td>\n",
       "      <td>ALL</td>\n",
       "      <td>EOG</td>\n",
       "      <td>48.6</td>\n",
       "      <td>27.3</td>\n",
       "      <td>Elementary</td>\n",
       "    </tr>\n",
       "    <tr>\n",
       "      <th>566243</th>\n",
       "      <td>Wingate Elementary</td>\n",
       "      <td>PK-05</td>\n",
       "      <td>ALL</td>\n",
       "      <td>EOG</td>\n",
       "      <td>60.4</td>\n",
       "      <td>38.3</td>\n",
       "      <td>Elementary</td>\n",
       "    </tr>\n",
       "    <tr>\n",
       "      <th>247307</th>\n",
       "      <td>General Greene Elementary</td>\n",
       "      <td>0K-05</td>\n",
       "      <td>ALL</td>\n",
       "      <td>EOG</td>\n",
       "      <td>63.7</td>\n",
       "      <td>46</td>\n",
       "      <td>Elementary</td>\n",
       "    </tr>\n",
       "    <tr>\n",
       "      <th>255712</th>\n",
       "      <td>Ronald E. McNair Elementary</td>\n",
       "      <td>PK-05</td>\n",
       "      <td>ALL</td>\n",
       "      <td>EOG</td>\n",
       "      <td>41.9</td>\n",
       "      <td>22.6</td>\n",
       "      <td>Elementary</td>\n",
       "    </tr>\n",
       "    <tr>\n",
       "      <th>265437</th>\n",
       "      <td>Southwest Elementary</td>\n",
       "      <td>0K-05</td>\n",
       "      <td>ALL</td>\n",
       "      <td>EOG</td>\n",
       "      <td>81.6</td>\n",
       "      <td>66.1</td>\n",
       "      <td>Elementary</td>\n",
       "    </tr>\n",
       "    <tr>\n",
       "      <th>481091</th>\n",
       "      <td>Grays Chapel Elementary School</td>\n",
       "      <td>0K-05</td>\n",
       "      <td>ALL</td>\n",
       "      <td>EOG</td>\n",
       "      <td>53.2</td>\n",
       "      <td>37.4</td>\n",
       "      <td>Elementary</td>\n",
       "    </tr>\n",
       "    <tr>\n",
       "      <th>162636</th>\n",
       "      <td>Pickett Elementary School</td>\n",
       "      <td>0K-05</td>\n",
       "      <td>ALL</td>\n",
       "      <td>EOG</td>\n",
       "      <td>40.5</td>\n",
       "      <td>22.1</td>\n",
       "      <td>Elementary</td>\n",
       "    </tr>\n",
       "    <tr>\n",
       "      <th>340226</th>\n",
       "      <td>GE Massey Elementary</td>\n",
       "      <td>PK-05</td>\n",
       "      <td>ALL</td>\n",
       "      <td>EOG</td>\n",
       "      <td>48.1</td>\n",
       "      <td>28.1</td>\n",
       "      <td>Elementary</td>\n",
       "    </tr>\n",
       "    <tr>\n",
       "      <th>576328</th>\n",
       "      <td>Baileywick Road Elementary</td>\n",
       "      <td>PK-05</td>\n",
       "      <td>ALL</td>\n",
       "      <td>EOG</td>\n",
       "      <td>47.3</td>\n",
       "      <td>31.1</td>\n",
       "      <td>Elementary</td>\n",
       "    </tr>\n",
       "    <tr>\n",
       "      <th>379786</th>\n",
       "      <td>McAlpine Elementary</td>\n",
       "      <td>PK-05</td>\n",
       "      <td>ALL</td>\n",
       "      <td>EOG</td>\n",
       "      <td>68.1</td>\n",
       "      <td>53.1</td>\n",
       "      <td>Elementary</td>\n",
       "    </tr>\n",
       "    <tr>\n",
       "      <th>303337</th>\n",
       "      <td>Lake Norman Elementary</td>\n",
       "      <td>PK-05</td>\n",
       "      <td>ALL</td>\n",
       "      <td>EOG</td>\n",
       "      <td>77.6</td>\n",
       "      <td>60.6</td>\n",
       "      <td>Elementary</td>\n",
       "    </tr>\n",
       "    <tr>\n",
       "      <th>144728</th>\n",
       "      <td>Westarea Elementary</td>\n",
       "      <td>PK-05</td>\n",
       "      <td>ALL</td>\n",
       "      <td>EOG</td>\n",
       "      <td>31.6</td>\n",
       "      <td>18.6</td>\n",
       "      <td>Elementary</td>\n",
       "    </tr>\n",
       "    <tr>\n",
       "      <th>500076</th>\n",
       "      <td>Rex-Rennert Elementary</td>\n",
       "      <td>PK-05</td>\n",
       "      <td>ALL</td>\n",
       "      <td>EOG</td>\n",
       "      <td>34</td>\n",
       "      <td>19.5</td>\n",
       "      <td>Elementary</td>\n",
       "    </tr>\n",
       "    <tr>\n",
       "      <th>41519</th>\n",
       "      <td>Leicester Elementary</td>\n",
       "      <td>PK-04</td>\n",
       "      <td>ALL</td>\n",
       "      <td>EOG</td>\n",
       "      <td>42.1</td>\n",
       "      <td>23.7</td>\n",
       "      <td>Elementary</td>\n",
       "    </tr>\n",
       "    <tr>\n",
       "      <th>78616</th>\n",
       "      <td>Beaufort Elementary</td>\n",
       "      <td>PK-05</td>\n",
       "      <td>ALL</td>\n",
       "      <td>EOG</td>\n",
       "      <td>66.9</td>\n",
       "      <td>52.2</td>\n",
       "      <td>Elementary</td>\n",
       "    </tr>\n",
       "    <tr>\n",
       "      <th>31732</th>\n",
       "      <td>Bolivia Elementary</td>\n",
       "      <td>PK-05</td>\n",
       "      <td>ALL</td>\n",
       "      <td>EOG</td>\n",
       "      <td>49.8</td>\n",
       "      <td>30.8</td>\n",
       "      <td>Elementary</td>\n",
       "    </tr>\n",
       "  </tbody>\n",
       "</table>\n",
       "</div>"
      ],
      "text/plain": [
       "                           school_name grade_span subgroup subject glp_pct  \\\n",
       "597585          Laurel Park Elementary      PK-05      ALL     EOG    79.3   \n",
       "438797      Heritage Elementary School      0K-05      ALL     EOG    52.7   \n",
       "229046             Woodhill Elementary      PK-05      ALL     EOG    27.3   \n",
       "577961            Brentwood Elementary      PK-05      ALL     EOG    44.6   \n",
       "508942         Williamsburg Elementary      PK-05      ALL     EOG    48.6   \n",
       "566243              Wingate Elementary      PK-05      ALL     EOG    60.4   \n",
       "247307       General Greene Elementary      0K-05      ALL     EOG    63.7   \n",
       "255712     Ronald E. McNair Elementary      PK-05      ALL     EOG    41.9   \n",
       "265437            Southwest Elementary      0K-05      ALL     EOG    81.6   \n",
       "481091  Grays Chapel Elementary School      0K-05      ALL     EOG    53.2   \n",
       "162636       Pickett Elementary School      0K-05      ALL     EOG    40.5   \n",
       "340226            GE Massey Elementary      PK-05      ALL     EOG    48.1   \n",
       "576328      Baileywick Road Elementary      PK-05      ALL     EOG    47.3   \n",
       "379786             McAlpine Elementary      PK-05      ALL     EOG    68.1   \n",
       "303337          Lake Norman Elementary      PK-05      ALL     EOG    77.6   \n",
       "144728             Westarea Elementary      PK-05      ALL     EOG    31.6   \n",
       "500076          Rex-Rennert Elementary      PK-05      ALL     EOG      34   \n",
       "41519             Leicester Elementary      PK-04      ALL     EOG    42.1   \n",
       "78616              Beaufort Elementary      PK-05      ALL     EOG    66.9   \n",
       "31732               Bolivia Elementary      PK-05      ALL     EOG    49.8   \n",
       "\n",
       "       ccr_pct school_type  \n",
       "597585    62.9  Elementary  \n",
       "438797    33.6  Elementary  \n",
       "229046    13.2  Elementary  \n",
       "577961    30.1  Elementary  \n",
       "508942    27.3  Elementary  \n",
       "566243    38.3  Elementary  \n",
       "247307      46  Elementary  \n",
       "255712    22.6  Elementary  \n",
       "265437    66.1  Elementary  \n",
       "481091    37.4  Elementary  \n",
       "162636    22.1  Elementary  \n",
       "340226    28.1  Elementary  \n",
       "576328    31.1  Elementary  \n",
       "379786    53.1  Elementary  \n",
       "303337    60.6  Elementary  \n",
       "144728    18.6  Elementary  \n",
       "500076    19.5  Elementary  \n",
       "41519     23.7  Elementary  \n",
       "78616     52.2  Elementary  \n",
       "31732     30.8  Elementary  "
      ]
     },
     "execution_count": 238,
     "metadata": {},
     "output_type": "execute_result"
    }
   ],
   "source": [
    "df_results.sample(20)"
   ]
  },
  {
   "cell_type": "code",
   "execution_count": 239,
   "id": "2ede149b",
   "metadata": {},
   "outputs": [
    {
     "name": "stdout",
     "output_type": "stream",
     "text": [
      "0\n"
     ]
    }
   ],
   "source": [
    "duplicates = df_results.duplicated().sum()\n",
    "print(duplicates)"
   ]
  },
  {
   "cell_type": "code",
   "execution_count": 240,
   "id": "a01bd46d",
   "metadata": {},
   "outputs": [
    {
     "data": {
      "text/plain": [
       "Index(['school_name', 'grade_span', 'subgroup', 'subject', 'glp_pct',\n",
       "       'ccr_pct', 'school_type'],\n",
       "      dtype='object')"
      ]
     },
     "execution_count": 240,
     "metadata": {},
     "output_type": "execute_result"
    }
   ],
   "source": [
    "df_results.columns"
   ]
  },
  {
   "cell_type": "code",
   "execution_count": 241,
   "id": "5d9a5da7",
   "metadata": {},
   "outputs": [
    {
     "name": "stdout",
     "output_type": "stream",
     "text": [
      "<class 'pandas.core.frame.DataFrame'>\n",
      "Index: 1191 entries, 2052 to 656038\n",
      "Data columns (total 7 columns):\n",
      " #   Column       Non-Null Count  Dtype \n",
      "---  ------       --------------  ----- \n",
      " 0   school_name  1191 non-null   object\n",
      " 1   grade_span   1191 non-null   object\n",
      " 2   subgroup     1191 non-null   object\n",
      " 3   subject      1191 non-null   object\n",
      " 4   glp_pct      1191 non-null   object\n",
      " 5   ccr_pct      1191 non-null   object\n",
      " 6   school_type  1191 non-null   object\n",
      "dtypes: object(7)\n",
      "memory usage: 74.4+ KB\n"
     ]
    }
   ],
   "source": [
    "df_results.info()"
   ]
  },
  {
   "cell_type": "code",
   "execution_count": 242,
   "id": "c4cdb2c1",
   "metadata": {},
   "outputs": [],
   "source": [
    "df_results = df_results.drop(columns=['grade_span','subgroup','subject','school_type'])"
   ]
  },
  {
   "cell_type": "code",
   "execution_count": 243,
   "id": "5e363d08",
   "metadata": {},
   "outputs": [],
   "source": [
    "df_results = df_results.rename({'school_name':'SCHOOL_NAME'})"
   ]
  },
  {
   "cell_type": "code",
   "execution_count": 244,
   "id": "0f532785",
   "metadata": {},
   "outputs": [
    {
     "data": {
      "text/plain": [
       "Index(['school_name', 'glp_pct', 'ccr_pct'], dtype='object')"
      ]
     },
     "execution_count": 244,
     "metadata": {},
     "output_type": "execute_result"
    }
   ],
   "source": [
    "df_results.columns"
   ]
  },
  {
   "cell_type": "code",
   "execution_count": 245,
   "id": "75702e96",
   "metadata": {},
   "outputs": [
    {
     "data": {
      "text/plain": [
       "Index(['NAME', 'CALENDAR', 'CITY', 'Magnet_status'], dtype='object')"
      ]
     },
     "execution_count": 245,
     "metadata": {},
     "output_type": "execute_result"
    }
   ],
   "source": [
    "df.columns"
   ]
  },
  {
   "cell_type": "code",
   "execution_count": 246,
   "id": "05b23e5e",
   "metadata": {},
   "outputs": [],
   "source": [
    "df_calendar = df.merge(df_results, left_on='NAME', right_on='school_name', how='inner')"
   ]
  },
  {
   "cell_type": "code",
   "execution_count": 247,
   "id": "86a947e6",
   "metadata": {},
   "outputs": [
    {
     "data": {
      "text/plain": [
       "NAME\n",
       "Washington Elementary           3\n",
       "Northwoods Elementary           2\n",
       "Brentwood Elementary            2\n",
       "Salem Elementary                2\n",
       "Oak Grove Elementary            2\n",
       "                               ..\n",
       "Beaverdam Elementary            1\n",
       "Hortons Creek Elementary        1\n",
       "Rogers Lane Elementary          1\n",
       "Southeast Raleigh Elementary    1\n",
       "Buckhorn Creek Elementary       1\n",
       "Name: count, Length: 111, dtype: int64"
      ]
     },
     "execution_count": 247,
     "metadata": {},
     "output_type": "execute_result"
    }
   ],
   "source": [
    "df_calendar['NAME'].value_counts()"
   ]
  },
  {
   "cell_type": "code",
   "execution_count": 248,
   "id": "665e90f0",
   "metadata": {},
   "outputs": [
    {
     "data": {
      "text/html": [
       "<div>\n",
       "<style scoped>\n",
       "    .dataframe tbody tr th:only-of-type {\n",
       "        vertical-align: middle;\n",
       "    }\n",
       "\n",
       "    .dataframe tbody tr th {\n",
       "        vertical-align: top;\n",
       "    }\n",
       "\n",
       "    .dataframe thead th {\n",
       "        text-align: right;\n",
       "    }\n",
       "</style>\n",
       "<table border=\"1\" class=\"dataframe\">\n",
       "  <thead>\n",
       "    <tr style=\"text-align: right;\">\n",
       "      <th></th>\n",
       "      <th>NAME</th>\n",
       "      <th>CALENDAR</th>\n",
       "      <th>CITY</th>\n",
       "      <th>Magnet_status</th>\n",
       "      <th>school_name</th>\n",
       "      <th>glp_pct</th>\n",
       "      <th>ccr_pct</th>\n",
       "    </tr>\n",
       "  </thead>\n",
       "  <tbody>\n",
       "    <tr>\n",
       "      <th>10</th>\n",
       "      <td>Washington Elementary</td>\n",
       "      <td>Traditional</td>\n",
       "      <td>Raleigh</td>\n",
       "      <td>Y</td>\n",
       "      <td>Washington Elementary</td>\n",
       "      <td>34.8</td>\n",
       "      <td>18.3</td>\n",
       "    </tr>\n",
       "    <tr>\n",
       "      <th>11</th>\n",
       "      <td>Washington Elementary</td>\n",
       "      <td>Traditional</td>\n",
       "      <td>Raleigh</td>\n",
       "      <td>Y</td>\n",
       "      <td>Washington Elementary</td>\n",
       "      <td>39.9</td>\n",
       "      <td>27.3</td>\n",
       "    </tr>\n",
       "    <tr>\n",
       "      <th>12</th>\n",
       "      <td>Washington Elementary</td>\n",
       "      <td>Traditional</td>\n",
       "      <td>Raleigh</td>\n",
       "      <td>Y</td>\n",
       "      <td>Washington Elementary</td>\n",
       "      <td>69.4</td>\n",
       "      <td>56.9</td>\n",
       "    </tr>\n",
       "  </tbody>\n",
       "</table>\n",
       "</div>"
      ],
      "text/plain": [
       "                     NAME     CALENDAR     CITY Magnet_status  \\\n",
       "10  Washington Elementary  Traditional  Raleigh             Y   \n",
       "11  Washington Elementary  Traditional  Raleigh             Y   \n",
       "12  Washington Elementary  Traditional  Raleigh             Y   \n",
       "\n",
       "              school_name glp_pct ccr_pct  \n",
       "10  Washington Elementary    34.8    18.3  \n",
       "11  Washington Elementary    39.9    27.3  \n",
       "12  Washington Elementary    69.4    56.9  "
      ]
     },
     "execution_count": 248,
     "metadata": {},
     "output_type": "execute_result"
    }
   ],
   "source": [
    "df_calendar[df_calendar['NAME']=='Washington Elementary']"
   ]
  },
  {
   "cell_type": "code",
   "execution_count": 249,
   "id": "637fec01",
   "metadata": {},
   "outputs": [],
   "source": [
    "df_calendar = df_calendar.drop(columns=['school_name','ccr_pct'])"
   ]
  },
  {
   "cell_type": "code",
   "execution_count": 250,
   "id": "c36209af",
   "metadata": {},
   "outputs": [
    {
     "name": "stdout",
     "output_type": "stream",
     "text": [
      "<class 'pandas.core.series.Series'>\n"
     ]
    }
   ],
   "source": [
    "print(type(df_calendar['glp_pct']))"
   ]
  },
  {
   "cell_type": "code",
   "execution_count": 251,
   "id": "a3b17039",
   "metadata": {},
   "outputs": [
    {
     "data": {
      "text/plain": [
       "glp_pct\n",
       "<class 'float'>    113\n",
       "<class 'int'>        9\n",
       "<class 'str'>        1\n",
       "Name: count, dtype: int64"
      ]
     },
     "execution_count": 251,
     "metadata": {},
     "output_type": "execute_result"
    }
   ],
   "source": [
    "df_calendar['glp_pct'].apply(type).value_counts()"
   ]
  },
  {
   "cell_type": "code",
   "execution_count": 255,
   "id": "a3707cf6",
   "metadata": {},
   "outputs": [],
   "source": [
    "df_calendar['glp_pct'] = pd.to_numeric(df_calendar['glp_pct'],errors='coerce')"
   ]
  },
  {
   "cell_type": "code",
   "execution_count": 253,
   "id": "d055a076",
   "metadata": {},
   "outputs": [
    {
     "data": {
      "text/html": [
       "<div>\n",
       "<style scoped>\n",
       "    .dataframe tbody tr th:only-of-type {\n",
       "        vertical-align: middle;\n",
       "    }\n",
       "\n",
       "    .dataframe tbody tr th {\n",
       "        vertical-align: top;\n",
       "    }\n",
       "\n",
       "    .dataframe thead th {\n",
       "        text-align: right;\n",
       "    }\n",
       "</style>\n",
       "<table border=\"1\" class=\"dataframe\">\n",
       "  <thead>\n",
       "    <tr style=\"text-align: right;\">\n",
       "      <th></th>\n",
       "      <th>NAME</th>\n",
       "      <th>CALENDAR</th>\n",
       "      <th>CITY</th>\n",
       "      <th>Magnet_status</th>\n",
       "      <th>glp_pct</th>\n",
       "    </tr>\n",
       "  </thead>\n",
       "  <tbody>\n",
       "    <tr>\n",
       "      <th>0</th>\n",
       "      <td>Swift Creek Elementary</td>\n",
       "      <td>Traditional</td>\n",
       "      <td>Raleigh</td>\n",
       "      <td>N</td>\n",
       "      <td>65.7</td>\n",
       "    </tr>\n",
       "    <tr>\n",
       "      <th>1</th>\n",
       "      <td>Briarcliff Elementary</td>\n",
       "      <td>Traditional</td>\n",
       "      <td>Cary</td>\n",
       "      <td>N</td>\n",
       "      <td>63.6</td>\n",
       "    </tr>\n",
       "    <tr>\n",
       "      <th>2</th>\n",
       "      <td>Farmington Woods Elementary</td>\n",
       "      <td>Traditional</td>\n",
       "      <td>Cary</td>\n",
       "      <td>Y</td>\n",
       "      <td>77</td>\n",
       "    </tr>\n",
       "    <tr>\n",
       "      <th>3</th>\n",
       "      <td>Adams Elementary</td>\n",
       "      <td>Year-Round</td>\n",
       "      <td>Cary</td>\n",
       "      <td>N</td>\n",
       "      <td>59.8</td>\n",
       "    </tr>\n",
       "    <tr>\n",
       "      <th>4</th>\n",
       "      <td>Apex Elementary</td>\n",
       "      <td>Traditional</td>\n",
       "      <td>Apex</td>\n",
       "      <td>N</td>\n",
       "      <td>71.9</td>\n",
       "    </tr>\n",
       "  </tbody>\n",
       "</table>\n",
       "</div>"
      ],
      "text/plain": [
       "                          NAME     CALENDAR     CITY Magnet_status glp_pct\n",
       "0       Swift Creek Elementary  Traditional  Raleigh             N    65.7\n",
       "1        Briarcliff Elementary  Traditional     Cary             N    63.6\n",
       "2  Farmington Woods Elementary  Traditional     Cary             Y      77\n",
       "3             Adams Elementary   Year-Round     Cary             N    59.8\n",
       "4              Apex Elementary  Traditional     Apex             N    71.9"
      ]
     },
     "execution_count": 253,
     "metadata": {},
     "output_type": "execute_result"
    }
   ],
   "source": [
    "df_calendar.head()"
   ]
  },
  {
   "cell_type": "code",
   "execution_count": 260,
   "id": "3f4fcda5",
   "metadata": {},
   "outputs": [],
   "source": [
    "df_cal_type = df_calendar.groupby(['NAME','CALENDAR']).agg('max').reset_index()"
   ]
  },
  {
   "cell_type": "code",
   "execution_count": 261,
   "id": "c8101b4a",
   "metadata": {},
   "outputs": [
    {
     "data": {
      "text/html": [
       "<div>\n",
       "<style scoped>\n",
       "    .dataframe tbody tr th:only-of-type {\n",
       "        vertical-align: middle;\n",
       "    }\n",
       "\n",
       "    .dataframe tbody tr th {\n",
       "        vertical-align: top;\n",
       "    }\n",
       "\n",
       "    .dataframe thead th {\n",
       "        text-align: right;\n",
       "    }\n",
       "</style>\n",
       "<table border=\"1\" class=\"dataframe\">\n",
       "  <thead>\n",
       "    <tr style=\"text-align: right;\">\n",
       "      <th></th>\n",
       "      <th>NAME</th>\n",
       "      <th>CALENDAR</th>\n",
       "      <th>CITY</th>\n",
       "      <th>Magnet_status</th>\n",
       "      <th>glp_pct</th>\n",
       "    </tr>\n",
       "  </thead>\n",
       "  <tbody>\n",
       "    <tr>\n",
       "      <th>0</th>\n",
       "      <td>Abbotts Creek Elementary</td>\n",
       "      <td>Traditional</td>\n",
       "      <td>Raleigh</td>\n",
       "      <td>N</td>\n",
       "      <td>80.8</td>\n",
       "    </tr>\n",
       "    <tr>\n",
       "      <th>1</th>\n",
       "      <td>Adams Elementary</td>\n",
       "      <td>Year-Round</td>\n",
       "      <td>Cary</td>\n",
       "      <td>N</td>\n",
       "      <td>59.8</td>\n",
       "    </tr>\n",
       "    <tr>\n",
       "      <th>2</th>\n",
       "      <td>Alston Ridge Elementary</td>\n",
       "      <td>Year-Round</td>\n",
       "      <td>Cary</td>\n",
       "      <td>N</td>\n",
       "      <td>78.4</td>\n",
       "    </tr>\n",
       "    <tr>\n",
       "      <th>3</th>\n",
       "      <td>Apex Elementary</td>\n",
       "      <td>Traditional</td>\n",
       "      <td>Apex</td>\n",
       "      <td>N</td>\n",
       "      <td>71.9</td>\n",
       "    </tr>\n",
       "    <tr>\n",
       "      <th>4</th>\n",
       "      <td>Aversboro Elementary</td>\n",
       "      <td>Traditional</td>\n",
       "      <td>Garner</td>\n",
       "      <td>N</td>\n",
       "      <td>42.8</td>\n",
       "    </tr>\n",
       "  </tbody>\n",
       "</table>\n",
       "</div>"
      ],
      "text/plain": [
       "                       NAME     CALENDAR     CITY Magnet_status  glp_pct\n",
       "0  Abbotts Creek Elementary  Traditional  Raleigh             N     80.8\n",
       "1          Adams Elementary   Year-Round     Cary             N     59.8\n",
       "2   Alston Ridge Elementary   Year-Round     Cary             N     78.4\n",
       "3           Apex Elementary  Traditional     Apex             N     71.9\n",
       "4      Aversboro Elementary  Traditional   Garner             N     42.8"
      ]
     },
     "execution_count": 261,
     "metadata": {},
     "output_type": "execute_result"
    }
   ],
   "source": [
    "df_cal_type.head()"
   ]
  },
  {
   "cell_type": "code",
   "execution_count": 270,
   "id": "6c2e0c9d",
   "metadata": {},
   "outputs": [
    {
     "data": {
      "text/plain": [
       "<Axes: xlabel='glp_pct', ylabel='CALENDAR'>"
      ]
     },
     "execution_count": 270,
     "metadata": {},
     "output_type": "execute_result"
    },
    {
     "data": {
      "image/png": "[encoded data removed]",
      "text/plain": [
       "<Figure size 640x480 with 1 Axes>"
      ]
     },
     "metadata": {},
     "output_type": "display_data"
    }
   ],
   "source": [
    "sns.boxplot(data=df_cal_type, x='glp_pct',y='CALENDAR',showmeans=True,\n",
    "            meanprops={\"marker\":\"o\", \"markerfacecolor\":\"white\", \n",
    "                       \"markeredgecolor\":\"black\", \"markersize\":\"8\"},flierprops={\"marker\":\"x\", \"markerfacecolor\":\"red\", \"markeredgecolor\":\"red\"})\n"
   ]
  },
  {
   "cell_type": "code",
   "execution_count": null,
   "id": "6f610fe1",
   "metadata": {},
   "outputs": [
    {
     "data": {
      "text/html": [
       "<div>\n",
       "<style scoped>\n",
       "    .dataframe tbody tr th:only-of-type {\n",
       "        vertical-align: middle;\n",
       "    }\n",
       "\n",
       "    .dataframe tbody tr th {\n",
       "        vertical-align: top;\n",
       "    }\n",
       "\n",
       "    .dataframe thead th {\n",
       "        text-align: right;\n",
       "    }\n",
       "</style>\n",
       "<table border=\"1\" class=\"dataframe\">\n",
       "  <thead>\n",
       "    <tr style=\"text-align: right;\">\n",
       "      <th></th>\n",
       "      <th>glp_pct</th>\n",
       "    </tr>\n",
       "  </thead>\n",
       "  <tbody>\n",
       "    <tr>\n",
       "      <th>count</th>\n",
       "      <td>75.000000</td>\n",
       "    </tr>\n",
       "    <tr>\n",
       "      <th>mean</th>\n",
       "      <td>61.581333</td>\n",
       "    </tr>\n",
       "    <tr>\n",
       "      <th>std</th>\n",
       "      <td>14.606956</td>\n",
       "    </tr>\n",
       "    <tr>\n",
       "      <th>min</th>\n",
       "      <td>29.000000</td>\n",
       "    </tr>\n",
       "    <tr>\n",
       "      <th>25%</th>\n",
       "      <td>51.400000</td>\n",
       "    </tr>\n",
       "    <tr>\n",
       "      <th>50%</th>\n",
       "      <td>62.700000</td>\n",
       "    </tr>\n",
       "    <tr>\n",
       "      <th>75%</th>\n",
       "      <td>71.900000</td>\n",
       "    </tr>\n",
       "    <tr>\n",
       "      <th>max</th>\n",
       "      <td>88.300000</td>\n",
       "    </tr>\n",
       "  </tbody>\n",
       "</table>\n",
       "</div>"
      ],
      "text/plain": [
       "         glp_pct\n",
       "count  75.000000\n",
       "mean   61.581333\n",
       "std    14.606956\n",
       "min    29.000000\n",
       "25%    51.400000\n",
       "50%    62.700000\n",
       "75%    71.900000\n",
       "max    88.300000"
      ]
     },
     "execution_count": 276,
     "metadata": {},
     "output_type": "execute_result"
    }
   ],
   "source": [
    "df_cal_type[df_cal_type['CALENDAR']=='Traditional'].describe()"
   ]
  },
  {
   "cell_type": "code",
   "execution_count": 289,
   "id": "d914553c",
   "metadata": {},
   "outputs": [
    {
     "data": {
      "image/png": "[encoded data removed]",
      "text/plain": [
       "<Figure size 640x480 with 1 Axes>"
      ]
     },
     "metadata": {},
     "output_type": "display_data"
    }
   ],
   "source": [
    "sns.kdeplot(df_cal_type[df_cal_type['CALENDAR']=='Traditional'], color='purple', fill=True)\n",
    "plt.title('Kernel Density Estimate of Sample Data')\n",
    "plt.xlabel('Value')\n",
    "plt.ylabel('Density')\n",
    "plt.grid(True, linestyle='--', alpha=0.7)\n",
    "plt.show()"
   ]
  },
  {
   "cell_type": "code",
   "execution_count": 277,
   "id": "9ebd9151",
   "metadata": {},
   "outputs": [
    {
     "data": {
      "text/html": [
       "<div>\n",
       "<style scoped>\n",
       "    .dataframe tbody tr th:only-of-type {\n",
       "        vertical-align: middle;\n",
       "    }\n",
       "\n",
       "    .dataframe tbody tr th {\n",
       "        vertical-align: top;\n",
       "    }\n",
       "\n",
       "    .dataframe thead th {\n",
       "        text-align: right;\n",
       "    }\n",
       "</style>\n",
       "<table border=\"1\" class=\"dataframe\">\n",
       "  <thead>\n",
       "    <tr style=\"text-align: right;\">\n",
       "      <th></th>\n",
       "      <th>glp_pct</th>\n",
       "    </tr>\n",
       "  </thead>\n",
       "  <tbody>\n",
       "    <tr>\n",
       "      <th>count</th>\n",
       "      <td>36.000000</td>\n",
       "    </tr>\n",
       "    <tr>\n",
       "      <th>mean</th>\n",
       "      <td>64.886111</td>\n",
       "    </tr>\n",
       "    <tr>\n",
       "      <th>std</th>\n",
       "      <td>14.671355</td>\n",
       "    </tr>\n",
       "    <tr>\n",
       "      <th>min</th>\n",
       "      <td>29.600000</td>\n",
       "    </tr>\n",
       "    <tr>\n",
       "      <th>25%</th>\n",
       "      <td>54.775000</td>\n",
       "    </tr>\n",
       "    <tr>\n",
       "      <th>50%</th>\n",
       "      <td>66.350000</td>\n",
       "    </tr>\n",
       "    <tr>\n",
       "      <th>75%</th>\n",
       "      <td>77.800000</td>\n",
       "    </tr>\n",
       "    <tr>\n",
       "      <th>max</th>\n",
       "      <td>86.600000</td>\n",
       "    </tr>\n",
       "  </tbody>\n",
       "</table>\n",
       "</div>"
      ],
      "text/plain": [
       "         glp_pct\n",
       "count  36.000000\n",
       "mean   64.886111\n",
       "std    14.671355\n",
       "min    29.600000\n",
       "25%    54.775000\n",
       "50%    66.350000\n",
       "75%    77.800000\n",
       "max    86.600000"
      ]
     },
     "execution_count": 277,
     "metadata": {},
     "output_type": "execute_result"
    }
   ],
   "source": [
    "df_cal_type[df_cal_type['CALENDAR']=='Year-Round'].describe()"
   ]
  },
  {
   "cell_type": "code",
   "execution_count": 290,
   "id": "67f3ef14",
   "metadata": {},
   "outputs": [
    {
     "data": {
      "image/png": "[encoded data removed]",
      "text/plain": [
       "<Figure size 640x480 with 1 Axes>"
      ]
     },
     "metadata": {},
     "output_type": "display_data"
    }
   ],
   "source": [
    "sns.kdeplot(df_cal_type[df_cal_type['CALENDAR']=='Year-Round'], color='purple', fill=True)\n",
    "plt.title('Kernel Density Estimate of Sample Data')\n",
    "plt.xlabel('Value')\n",
    "plt.ylabel('Density')\n",
    "plt.grid(True, linestyle='--', alpha=0.7)\n",
    "plt.show()"
   ]
  },
  {
   "cell_type": "code",
   "execution_count": 273,
   "id": "1fbe3071",
   "metadata": {},
   "outputs": [],
   "source": [
    "df_final = df_cal_type.groupby('CALENDAR')['glp_pct'].mean().reset_index()"
   ]
  },
  {
   "cell_type": "code",
   "execution_count": 263,
   "id": "9c0c0130",
   "metadata": {},
   "outputs": [
    {
     "data": {
      "text/plain": [
       "CALENDAR\n",
       "Traditional    61.581333\n",
       "Year-Round     64.886111\n",
       "Name: glp_pct, dtype: float64"
      ]
     },
     "execution_count": 263,
     "metadata": {},
     "output_type": "execute_result"
    }
   ],
   "source": [
    "df_final"
   ]
  },
  {
   "cell_type": "code",
   "execution_count": 285,
   "id": "ea5ae51b",
   "metadata": {},
   "outputs": [],
   "source": [
    "df_traditional = df_cal_type[df_cal_type['CALENDAR']=='Traditional']\n",
    "df_traditional = df_traditional.drop(columns=['NAME','CITY','Magnet_status'])"
   ]
  },
  {
   "cell_type": "code",
   "execution_count": 286,
   "id": "159a142e",
   "metadata": {},
   "outputs": [],
   "source": [
    "df_year_round= df_cal_type[df_cal_type['CALENDAR']=='Year-Round']\n",
    "df_year_round = df_year_round.drop(columns=['NAME','CITY','Magnet_status'])"
   ]
  },
  {
   "cell_type": "code",
   "execution_count": 288,
   "id": "1f9c3ef4",
   "metadata": {},
   "outputs": [
    {
     "data": {
      "text/plain": [
       "(np.float64(-1.1125261096285983),\n",
       " np.float64(0.26978109371344144),\n",
       " np.float64(68.85641181800693))"
      ]
     },
     "execution_count": 288,
     "metadata": {},
     "output_type": "execute_result"
    }
   ],
   "source": [
    "# run two independant variable t-test\n",
    "\n",
    "from statsmodels.stats.weightstats import ttest_ind\n",
    "\n",
    "ttest_ind(df_traditional['glp_pct'],df_year_round['glp_pct'],usevar='unequal')"
   ]
  }
 ],
 "metadata": {
  "kernelspec": {
   "display_name": "venv",
   "language": "python",
   "name": "python3"
  },
  "language_info": {
   "codemirror_mode": {
    "name": "ipython",
    "version": 3
   },
   "file_extension": ".py",
   "mimetype": "text/x-python",
   "name": "python",
   "nbconvert_exporter": "python",
   "pygments_lexer": "ipython3",
   "version": "3.13.5"
  }
 },
 "nbformat": 4,
 "nbformat_minor": 5
}
